{
 "cells": [
  {
   "cell_type": "markdown",
   "metadata": {},
   "source": [
    "# Задача\n",
    "\n",
    "Нека имаме следното диференциално уравнение:\n",
    "\n",
    "$$y' = -\\dfrac{y}{x}$$\n",
    "\n",
    "1. Да се начертае поле от прави за това ДУ в интервала $x\\in[-5, 5], y\\in[-5,5]$ с черен цвят.\n",
    "2. В същата координатна система начерайте графиката решението на задачата на Коши за даденото диференциално уравнение с начално условие $y(1.5) = -2$ с червен цвят."
   ]
  },
  {
   "cell_type": "code",
   "execution_count": 3,
   "metadata": {},
   "outputs": [],
   "source": [
    "warning('off','all');\n",
    "% pkg install -forge symbolic\n",
    "pkg load symbolic;\n",
    "graphics_toolkit(\"gnuplot\");"
   ]
  },
  {
   "cell_type": "code",
   "execution_count": 6,
   "metadata": {},
   "outputs": [
    {
     "name": "stdout",
     "output_type": "stream",
     "text": [
      "sol = (sym)\n",
      "\n",
      "  -3 \n",
      "  ---\n",
      "   x \n",
      "\n"
     ]
    },
    {
     "data": {
      "image/png": "[encoded data removed]",
      "text/plain": [
       "<IPython.core.display.Image object>"
      ]
     },
     "metadata": {},
     "output_type": "display_data"
    }
   ],
   "source": [
    "x = -5:0.6:5;\n",
    "y = -5:0.6:5;\n",
    "delta = 0.2;\n",
    "\n",
    "f = @(x, y) - y / x;\n",
    "\n",
    "axis([-6, 6, -6, 6])\n",
    "hold on\n",
    "\n",
    "for k=1:length(x)\n",
    "    for m=1:length(y)\n",
    "        epsilon = delta / (sqrt(1 + f(x(k),y(m))^2));\n",
    "        gama = epsilon * f(x(k), y(m));\n",
    "\n",
    "        plot([x(k) - epsilon, x(k) + epsilon], [y(m) - gama, y(m) + gama], 'black-');\n",
    "        plot(x(k),y(m), 'black.')\n",
    "    end\n",
    "end\n",
    "\n",
    "x_0 = 1.5;\n",
    "y_0 = -2;\n",
    "\n",
    "plot(x_0, y_0, 'redo')\n",
    "\n",
    "syms x y(x)\n",
    "\n",
    "sol = dsolve(diff(y, x) == - y / x, y(x_0) == y_0)\n",
    "\n",
    "x_axis = -5:0.1:5;\n",
    "plot(x_axis, double(subs(sol, x, x_axis)), \"red-\")"
   ]
  },
  {
   "cell_type": "code",
   "execution_count": null,
   "metadata": {},
   "outputs": [],
   "source": []
  }
 ],
 "metadata": {
  "kernelspec": {
   "display_name": "Octave",
   "language": "octave",
   "name": "octave"
  },
  "language_info": {
   "file_extension": ".m",
   "help_links": [
    {
     "text": "GNU Octave",
     "url": "https://www.gnu.org/software/octave/support.html"
    },
    {
     "text": "Octave Kernel",
     "url": "https://github.com/Calysto/octave_kernel"
    },
    {
     "text": "MetaKernel Magics",
     "url": "https://metakernel.readthedocs.io/en/latest/source/README.html"
    }
   ],
   "mimetype": "text/x-octave",
   "name": "octave",
   "version": "9.3.0"
  }
 },
 "nbformat": 4,
 "nbformat_minor": 2
}
