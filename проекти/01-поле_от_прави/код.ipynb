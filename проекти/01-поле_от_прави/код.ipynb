{
 "cells": [
  {
   "cell_type": "markdown",
   "metadata": {},
   "source": [
    "# Поле от прави - код"
   ]
  },
  {
   "cell_type": "code",
   "execution_count": null,
   "metadata": {},
   "outputs": [],
   "source": [
    "% pkg install -forge symbolic"
   ]
  },
  {
   "cell_type": "code",
   "execution_count": 1,
   "metadata": {},
   "outputs": [
    {
     "name": "stdout",
     "output_type": "stream",
     "text": [
      "warning: using the fltk graphics toolkit is discouraged\n",
      "\n",
      "The FLTK graphics toolkit is not actively maintained and has a number\n",
      "of limitations that are unlikely to be fixed.\n",
      "The qt toolkit is recommended instead.\n",
      "\n"
     ]
    }
   ],
   "source": [
    "warning('off','all');\n",
    "pkg load symbolic;\n",
    "graphics_toolkit(\"gnuplot\");"
   ]
  },
  {
   "cell_type": "code",
   "execution_count": 3,
   "metadata": {},
   "outputs": [],
   "source": [
    "function Plotslope\n",
    "    x = -5:0.6:5;\n",
    "    y = -5:0.6:5;\n",
    "    delta = 0.2;\n",
    "\n",
    "    f = @(x, y) - y / x;\n",
    "\n",
    "    axis([-6, 6, -6, 6])\n",
    "    hold on\n",
    "\n",
    "    for k=1:length(x)\n",
    "        for m=1:length(y)\n",
    "            epsilon = delta / (sqrt(1 + f(x(k),y(m))^2));\n",
    "            gama = epsilon * f(x(k), y(m));\n",
    "\n",
    "            plot([x(k) - epsilon, x(k) + epsilon], [y(m) - gama, y(m) + gama], 'black');\n",
    "            plot(x(k),y(m), 'black.')\n",
    "        end\n",
    "    end\n",
    "\n",
    "    x_0 = 1.5;\n",
    "    y_0 = -2;\n",
    "\n",
    "    plot(x_0, y_0, 'bo')\n",
    "\n",
    "    syms x y(x)\n",
    "\n",
    "    sol = dsolve(diff(y, x) == - y / x, y(x_0) == y_0)\n",
    "\n",
    "    x_axis = -5:0.1:5;\n",
    "    plot(x_axis, double(subs(sol, x, x_axis)))\n",
    "end"
   ]
  },
  {
   "cell_type": "code",
   "execution_count": 4,
   "metadata": {},
   "outputs": [
    {
     "name": "stdout",
     "output_type": "stream",
     "text": [
      "Symbolic pkg v3.2.1: Python communication link active, SymPy v1.13.3.\n",
      "sol = (sym)\n",
      "\n",
      "  -3 \n",
      "  ---\n",
      "   x \n",
      "\n"
     ]
    },
    {
     "data": {
      "image/png": "[encoded data removed]",
      "text/plain": [
       "<IPython.core.display.Image object>"
      ]
     },
     "metadata": {},
     "output_type": "display_data"
    }
   ],
   "source": [
    "Plotslope"
   ]
  },
  {
   "cell_type": "code",
   "execution_count": null,
   "metadata": {},
   "outputs": [],
   "source": []
  }
 ],
 "metadata": {
  "kernelspec": {
   "display_name": "Octave",
   "language": "octave",
   "name": "octave"
  },
  "language_info": {
   "file_extension": ".m",
   "help_links": [
    {
     "text": "GNU Octave",
     "url": "https://www.gnu.org/software/octave/support.html"
    },
    {
     "text": "Octave Kernel",
     "url": "https://github.com/Calysto/octave_kernel"
    },
    {
     "text": "MetaKernel Magics",
     "url": "https://metakernel.readthedocs.io/en/latest/source/README.html"
    }
   ],
   "mimetype": "text/x-octave",
   "name": "octave",
   "version": "9.3.0"
  }
 },
 "nbformat": 4,
 "nbformat_minor": 2
}
