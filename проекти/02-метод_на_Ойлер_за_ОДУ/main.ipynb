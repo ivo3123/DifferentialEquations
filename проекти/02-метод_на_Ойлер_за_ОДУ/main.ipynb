{
 "cells": [
  {
   "cell_type": "markdown",
   "metadata": {},
   "source": [
    "# Метод на Ойлер"
   ]
  },
  {
   "cell_type": "markdown",
   "metadata": {},
   "source": [
    "## Общ случай\n",
    "\n",
    "Нека имаме следната задача на Коши\n",
    "\n",
    "$$\n",
    "\\begin{cases}\n",
    "y' = f(x, y)\\\\\n",
    "y(x_0) = z_0\n",
    "\\end{cases}\n",
    "$$\n",
    "\n",
    "Ще я решим числено със следната схема.\n",
    "\n",
    "Нека $x\\in[x_0, A], \\quad x_0<A\\in\\mathbb{R}$\n",
    "\n",
    "Дефинираме следнта мрежа: $x_i = x_0 + ih, \\quad i = 0,\\dots,N-1$, където $N\\in\\mathbb{N}$ и $h = \\dfrac{A-x_0}{N}$\n",
    "\n",
    "$N$ е броят възли и колкото по-голямо е $N$, толкова по-малко е $h$.\n",
    "\n",
    "Предполагаме, че $y(x_i) \\approx y_i$, тоест, че нашето приближение е приблизително равно на истинската стойност на решението в същата точка (с някаква грешка).\n",
    "\n",
    "Численото решение, което решава задачата се задава със следната диференчна схема:\n",
    "\n",
    "$$y_0 = z_0$$\n",
    "\n",
    "$$y_{i+1} = y_{i} + h f(x_i, y_i)$$"
   ]
  },
  {
   "cell_type": "markdown",
   "metadata": {},
   "source": [
    "## Конкретен пример\n",
    "\n",
    "Дадена е следната задача на Коши\n",
    "\n",
    "$$\n",
    "\\begin{cases}\n",
    "y' = x^2 - y^2\\\\\n",
    "y(0) = 11\n",
    "\\end{cases}\n",
    "$$\n",
    "\n",
    "С метода на Ойлер да се намери числено решение на задачата на Коши със стъпки $h = 0.1$ и $h=0.001$ в интервала $[0, e^2)$"
   ]
  },
  {
   "cell_type": "code",
   "execution_count": 2,
   "metadata": {},
   "outputs": [],
   "source": [
    "warning('off','all');\n",
    "graphics_toolkit(\"gnuplot\");"
   ]
  },
  {
   "cell_type": "code",
   "execution_count": 64,
   "metadata": {},
   "outputs": [],
   "source": [
    "function Euler\n",
    "    A = exp(2);\n",
    "    x_0 = 0;\n",
    "    z_0 = 3;\n",
    "\n",
    "    f = @(x, y) x^2 - y^2;\n",
    "\n",
    "    hold on;\n",
    "    grid on;\n",
    "    title(\"Числено решение с метода на Ойлер\");\n",
    "    xlabel(\"x\");\n",
    "    ylabel(\"y\");\n",
    "\n",
    "    colors = ['r', 'b'];\n",
    "    legends = {};\n",
    "\n",
    "    for k = 1:2\n",
    "        h = [0.1, 0.001](k);\n",
    "        N = round((A - x_0) / h);\n",
    "\n",
    "        xs = x_0 + h * (0:N-1);\n",
    "        ys = zeros(1, N);\n",
    "\n",
    "        ys(1) = z_0;\n",
    "\n",
    "        for i = 1:N-1\n",
    "            ys(i+1) = ys(i) + h * f(xs(i), ys(i));\n",
    "        end\n",
    "\n",
    "        plot(xs, ys, 'Color', colors(k));\n",
    "        legends{end+1} = sprintf(\"h = %.3f\", h);\n",
    "    end\n",
    "\n",
    "    legend(legends, \"Location\", \"best\");\n",
    "    hold off;\n",
    "endfunction\n"
   ]
  },
  {
   "cell_type": "code",
   "execution_count": 65,
   "metadata": {},
   "outputs": [
    {
     "data": {
      "image/png": "[encoded data removed]",
      "text/plain": [
       "<IPython.core.display.Image object>"
      ]
     },
     "metadata": {},
     "output_type": "display_data"
    }
   ],
   "source": [
    "Euler"
   ]
  },
  {
   "cell_type": "code",
   "execution_count": null,
   "metadata": {},
   "outputs": [],
   "source": []
  }
 ],
 "metadata": {
  "kernelspec": {
   "display_name": "Octave",
   "language": "octave",
   "name": "octave"
  },
  "language_info": {
   "file_extension": ".m",
   "help_links": [
    {
     "text": "GNU Octave",
     "url": "https://www.gnu.org/software/octave/support.html"
    },
    {
     "text": "Octave Kernel",
     "url": "https://github.com/Calysto/octave_kernel"
    },
    {
     "text": "MetaKernel Magics",
     "url": "https://metakernel.readthedocs.io/en/latest/source/README.html"
    }
   ],
   "mimetype": "text/x-octave",
   "name": "octave",
   "version": "9.3.0"
  }
 },
 "nbformat": 4,
 "nbformat_minor": 2
}
