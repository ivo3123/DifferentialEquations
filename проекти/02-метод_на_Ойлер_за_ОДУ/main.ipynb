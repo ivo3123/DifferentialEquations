{
 "cells": [
  {
   "cell_type": "markdown",
   "metadata": {},
   "source": [
    "# Метод на Ойлер"
   ]
  },
  {
   "cell_type": "markdown",
   "metadata": {},
   "source": [
    "## Общ случай\n",
    "\n",
    "Нека имаме следната задача на Коши\n",
    "\n",
    "$$\n",
    "\\begin{cases}\n",
    "y' = f(x, y)\\\\\n",
    "y(x_0) = z_0\n",
    "\\end{cases}\n",
    "$$\n",
    "\n",
    "Ще я решим числено със следната схема.\n",
    "\n",
    "Нека $x\\in[x_0, A], \\quad x_0<A\\in\\mathbb{R}$\n",
    "\n",
    "Дефинираме следната мрежа: $x_i = x_0 + ih, \\quad i = 0,\\dots,N-1$, където $N\\in\\mathbb{N}$ и $h = \\dfrac{A-x_0}{N}$\n",
    "\n",
    "$N$ е броят възли и колкото по-голямо е $N$, толкова по-малко е $h$.\n",
    "\n",
    "Предполагаме, че $y(x_i) \\approx y_i$, тоест, че нашето приближение е приблизително равно на истинската стойност на решението в същата точка (с някаква грешка).\n",
    "\n",
    "Численото решение, което решава задачата се задава със следната диференчна схема:\n",
    "\n",
    "$$y_0 = z_0$$\n",
    "\n",
    "$$y_{i+1} = y_{i} + h f(x_i, y_i)$$"
   ]
  },
  {
   "cell_type": "markdown",
   "metadata": {},
   "source": [
    "## Задача\n",
    "\n",
    "Дадена е следната задача на Коши\n",
    "\n",
    "$$\n",
    "\\begin{cases}\n",
    "y' = x^2 - y^2\\\\\n",
    "y(0) = 6\n",
    "\\end{cases}\n",
    "$$\n",
    "\n",
    "Да се намери приближение на решението с метода на Ойлер в интервала $x\\in [0, 5]$ със стъпки $h = 0.1$, $h = 0.02$ и $h = 0.001$. Да се начертаят графиките на трите приближенията в една и съща координатна система."
   ]
  },
  {
   "cell_type": "code",
   "execution_count": 15,
   "metadata": {},
   "outputs": [],
   "source": [
    "warning('off','all');\n",
    "% pkg install -forge symbolic\n",
    "pkg load symbolic;\n",
    "graphics_toolkit(\"gnuplot\");"
   ]
  },
  {
   "cell_type": "code",
   "execution_count": 16,
   "metadata": {},
   "outputs": [],
   "source": [
    "function [nodes, values] = euler_numerical_method(f, x_0, A, y_0, h)\n",
    "    N = round((A - x_0)/h);\n",
    "\n",
    "    nodes = x_0 + h * (0:N-1);\n",
    "\n",
    "    values = zeros(1, N);\n",
    "\n",
    "    values(1) = y_0;\n",
    "\n",
    "    for i = 1:N-1\n",
    "        values(i+1) = values(i) + h * f(nodes(i), values(i));\n",
    "    end\n",
    "end"
   ]
  },
  {
   "cell_type": "code",
   "execution_count": 17,
   "metadata": {},
   "outputs": [
    {
     "data": {
      "image/png": "[encoded data removed]",
      "text/plain": [
       "<IPython.core.display.Image object>"
      ]
     },
     "metadata": {},
     "output_type": "display_data"
    }
   ],
   "source": [
    "f = @(x, y) x^2 - y^2;\n",
    "x_0 = 0;\n",
    "A = 5;\n",
    "y_0 = 6;\n",
    "\n",
    "hold on\n",
    "\n",
    "for h = [0.1, 0.02, 0.001]\n",
    "    [nodes, values] = euler_numerical_method(f, x_0, A, y_0, h);\n",
    "    plot(nodes, values)\n",
    "end\n",
    "\n",
    "legend(\"h = 0.1\", \"h = 0.02\", \"h = 0.001\")"
   ]
  },
  {
   "cell_type": "code",
   "execution_count": null,
   "metadata": {},
   "outputs": [],
   "source": []
  }
 ],
 "metadata": {
  "kernelspec": {
   "display_name": "Octave",
   "language": "octave",
   "name": "octave"
  },
  "language_info": {
   "file_extension": ".m",
   "help_links": [
    {
     "text": "GNU Octave",
     "url": "https://www.gnu.org/software/octave/support.html"
    },
    {
     "text": "Octave Kernel",
     "url": "https://github.com/Calysto/octave_kernel"
    },
    {
     "text": "MetaKernel Magics",
     "url": "https://metakernel.readthedocs.io/en/latest/source/README.html"
    }
   ],
   "mimetype": "text/x-octave",
   "name": "octave",
   "version": "9.3.0"
  }
 },
 "nbformat": 4,
 "nbformat_minor": 2
}
