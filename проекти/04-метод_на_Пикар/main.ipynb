{
 "cells": [
  {
   "cell_type": "markdown",
   "metadata": {},
   "source": [
    "# Теоретична част\n",
    "\n",
    "Имаме следната задача на Коши\n",
    "\n",
    "$$\n",
    "\\begin{cases}\n",
    "y'=f(y, x)\\\\\n",
    "y(x_0) = y_0\n",
    "\\end{cases}\n",
    "$$\n",
    "\n",
    "Интегрираме уравнението формално, тоест в граници от $x_0$ до $x$.\n",
    "\n",
    "$$\\displaystyle \\int \\limits_{x_0}^{x} y'(t) \\space dt = \\int \\limits_{x_0}^{x} f(y(t), t) \\space dt$$\n",
    "\n",
    "$$\\displaystyle \\int \\limits_{x_0}^{x} \\space dy(t) = \\int \\limits_{x_0}^{x} f(y(t), t) \\space dt$$\n",
    "\n",
    "$$\\displaystyle y(x) - y(x_0) = \\int \\limits_{x_0}^{x} f(y(t), t) \\space dt$$\n",
    "\n",
    "$$\\displaystyle y(x) = y(x_0) + \\int \\limits_{x_0}^{x} f(y(t), t) \\space dt$$\n",
    "\n",
    "$$\\displaystyle y(x) = y_0 + \\int \\limits_{x_0}^{x} f(y(t), t) \\space dt$$\n",
    "\n",
    "Така сведохме задачата на Коши до *интегрално уравнение*. Това означава, че вече вместо да имаме уравнение с $y$ и $y'$, имаме уравнение само с $y$. Това ни позволява да направим последователни приближения, започвайки с $y_0$ от задачата на Коши и обща форма, която се задава по следния начин:\n",
    "\n",
    "$$\\displaystyle y_{i+1}(x) = y_0 + \\int \\limits_{x_0}^{x} f(y_{i}(t), t) \\space dt$$"
   ]
  },
  {
   "cell_type": "markdown",
   "metadata": {},
   "source": [
    "## Задача\n",
    "\n",
    "Дадена е следната задача на Коши\n",
    "\n",
    "$$\n",
    "\\begin{cases}\n",
    "y'=y\\\\\n",
    "y(0) = 1\n",
    "\\end{cases}\n",
    "$$\n",
    "\n",
    "Да се намерят първите 5 приближения с метода на Пикар аналитично.\n",
    "\n",
    "Да се начертаят с MATLAB/Octave в една координатна система графиките на първите 5 приближения на задачата на Коши по метода на Пикар в интервала $x\\in[-2, 2]$."
   ]
  },
  {
   "cell_type": "markdown",
   "metadata": {},
   "source": [
    "## Аналитично решение\n",
    "\n",
    "$$\n",
    "\\begin{cases}\n",
    "y' = y, \\\\\n",
    "y(0) = 1.\n",
    "\\end{cases}\n",
    "$$\n",
    "\n",
    "Интегралното уравнение по метода на Пикар е:\n",
    "\n",
    "$$\n",
    "\\displaystyle y_{i+1}(x) = y_0 + \\int \\limits_{x_0}^{x} y_i(t) \\space dt\n",
    "$$\n",
    "\n",
    "$$\n",
    "\\displaystyle y_{i+1}(x) = 1 + \\int \\limits_{0}^{x} y_i(t) \\space dt\n",
    "$$\n",
    "\n",
    "### Първо приближение:\n",
    "\n",
    "$$\n",
    "y_0 = 1.\n",
    "$$\n",
    "\n",
    "### Второ приближение:\n",
    "\n",
    "$$\n",
    "y_1 = 1 + \\int \\limits_{0}^{x} 1 \\space dt = 1 + \\left[ t \\right]_{0}^{x}.\n",
    "$$\n",
    "\n",
    "$$\n",
    "y_1 = 1 + x.\n",
    "$$\n",
    "\n",
    "### Трето приближение:\n",
    "\n",
    "$$\n",
    "y_2 = 1 + \\int \\limits_{0}^{x} (1 + t) \\space dt.\n",
    "$$\n",
    "\n",
    "$$\n",
    "= 1 + \\left[ t + \\frac{t^2}{2} \\right]_{0}^{x}.\n",
    "$$\n",
    "\n",
    "$$\n",
    "y_2 = 1 + x + \\frac{x^2}{2}.\n",
    "$$\n",
    "\n",
    "### Четвърто приближение:\n",
    "\n",
    "$$\n",
    "y_3 = 1 + \\int \\limits_{0}^{x} \\left(1 + t + \\frac{t^2}{2} \\right) \\space dt.\n",
    "$$\n",
    "\n",
    "$$\n",
    "= 1 + \\left[ t + \\frac{t^2}{2} + \\frac{t^3}{6} \\right]_{0}^{x}.\n",
    "$$\n",
    "\n",
    "$$\n",
    "y_3 = 1 + x + \\frac{x^2}{2} + \\frac{x^3}{6}.\n",
    "$$\n",
    "\n",
    "### Пето приближение:\n",
    "\n",
    "$$\n",
    "y_4 = 1 + \\int \\limits_{0}^{x} \\left(1 + t + \\frac{t^2}{2} + \\frac{t^3}{6} \\right) \\space dt.\n",
    "$$\n",
    "\n",
    "$$\n",
    "= 1 + \\left[ t + \\frac{t^2}{2} + \\frac{t^3}{6} + \\frac{t^4}{24} \\right]_{0}^{x}.\n",
    "$$\n",
    "\n",
    "$$\n",
    "y_4 = 1 + x + \\frac{x^2}{2} + \\frac{x^3}{6} + \\frac{x^4}{24}.\n",
    "$$\n",
    "\n",
    "Така виждаме, че приближенията формират реда на Тейлър на $e^x$.\n",
    "\n",
    "Също е добре да отбележим, че последователните приближения стават все по-точни в околност на точката $(x_0, y_0)$"
   ]
  },
  {
   "cell_type": "code",
   "execution_count": 3,
   "metadata": {},
   "outputs": [],
   "source": [
    "warning('off','all');\n",
    "pkg load symbolic;\n",
    "graphics_toolkit(\"gnuplot\");"
   ]
  },
  {
   "cell_type": "code",
   "execution_count": 20,
   "metadata": {},
   "outputs": [
    {
     "name": "stdout",
     "output_type": "stream",
     "text": [
      "ans = (sym)\n",
      "\n",
      "   x\n",
      "  e \n",
      "\n"
     ]
    }
   ],
   "source": [
    "syms x y(x)\n",
    "\n",
    "dsolve(diff(y, x) == y, y(0) == 1)"
   ]
  },
  {
   "cell_type": "code",
   "execution_count": 9,
   "metadata": {},
   "outputs": [],
   "source": [
    "syms x y f\n",
    "\n",
    "x_0 = 0;\n",
    "y_0 = 1;\n",
    "\n",
    "approximations_count = 5;\n",
    "\n",
    "f(x, y) = y;\n",
    "\n",
    "approximations = sym([]);\n",
    "\n",
    "approximations(1) = 1;\n",
    "\n",
    "for i = 1:approximations_count-1\n",
    "    approximations(i+1) = approximations(1) + int(f(x, approximations(i)), x, x_0, x);\n",
    "end"
   ]
  },
  {
   "cell_type": "code",
   "execution_count": 10,
   "metadata": {},
   "outputs": [
    {
     "name": "stdout",
     "output_type": "stream",
     "text": [
      "ans = (sym 5x1 matrix)\n",
      "\n",
      "  [         1          ]\n",
      "  [                    ]\n",
      "  [       x + 1        ]\n",
      "  [                    ]\n",
      "  [      2             ]\n",
      "  [     x              ]\n",
      "  [     -- + x + 1     ]\n",
      "  [     2              ]\n",
      "  [                    ]\n",
      "  [   3    2           ]\n",
      "  [  x    x            ]\n",
      "  [  -- + -- + x + 1   ]\n",
      "  [  6    2            ]\n",
      "  [                    ]\n",
      "  [ 4    3    2        ]\n",
      "  [x    x    x         ]\n",
      "  [-- + -- + -- + x + 1]\n",
      "  [24   6    2         ]\n",
      "\n"
     ]
    }
   ],
   "source": [
    "transpose(approximations)"
   ]
  },
  {
   "cell_type": "code",
   "execution_count": 11,
   "metadata": {},
   "outputs": [],
   "source": [
    "x_axis = -2:0.2:2;\n",
    "\n",
    "for i = 1:approximations_count-1\n",
    "    approximations_values(i, :) = double(subs(approximations(i), x, x_axis));\n",
    "end"
   ]
  },
  {
   "cell_type": "code",
   "execution_count": 18,
   "metadata": {},
   "outputs": [
    {
     "data": {
      "image/png": "[encoded data removed]",
      "text/plain": [
       "<IPython.core.display.Image object>"
      ]
     },
     "metadata": {},
     "output_type": "display_data"
    }
   ],
   "source": [
    "hold on;\n",
    "grid on;\n",
    "\n",
    "plot(x_axis, exp(x_axis), \"LineWidth\", 6)\n",
    "\n",
    "for i = 1:approximations_count-1\n",
    "    plot(x_axis, approximations_values(i, :), \"LineWidth\", 2)\n",
    "end\n",
    "\n",
    "legend(\"Exact solution\", \"First appeoximation\", \"Second appeoximation\", \"Third appeoximation\", \"Fourth appeoximation\", \"Fifth appeoximation\")"
   ]
  },
  {
   "cell_type": "code",
   "execution_count": null,
   "metadata": {},
   "outputs": [],
   "source": []
  }
 ],
 "metadata": {
  "kernelspec": {
   "display_name": "Octave",
   "language": "octave",
   "name": "octave"
  },
  "language_info": {
   "file_extension": ".m",
   "help_links": [
    {
     "text": "GNU Octave",
     "url": "https://www.gnu.org/software/octave/support.html"
    },
    {
     "text": "Octave Kernel",
     "url": "https://github.com/Calysto/octave_kernel"
    },
    {
     "text": "MetaKernel Magics",
     "url": "https://metakernel.readthedocs.io/en/latest/source/README.html"
    }
   ],
   "mimetype": "text/x-octave",
   "name": "octave",
   "version": "9.3.0"
  }
 },
 "nbformat": 4,
 "nbformat_minor": 2
}
