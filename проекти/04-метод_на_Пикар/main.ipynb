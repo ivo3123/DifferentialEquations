{
 "cells": [
  {
   "cell_type": "markdown",
   "metadata": {},
   "source": [
    "# Теоретична част\n",
    "\n",
    "Имаме следната задача на Коши\n",
    "\n",
    "$$\n",
    "\\begin{cases}\n",
    "y'=f(y, x)\\\\\n",
    "y(x_0) = y_0\n",
    "\\end{cases}\n",
    "$$\n",
    "\n",
    "Интегрираме уравнението формално, тоест в граници от $x_0$ до $x$.\n",
    "\n",
    "$$\\displaystyle \\int \\limits_{x_0}^{x} y'(t) \\space dt = \\int \\limits_{x_0}^{x} f(y(t), t) \\space dt$$\n",
    "\n",
    "$$\\displaystyle \\int \\limits_{x_0}^{x} \\space dy(t) = \\int \\limits_{x_0}^{x} f(y(t), t) \\space dt$$\n",
    "\n",
    "$$\\displaystyle y(x) - y(x_0) = \\int \\limits_{x_0}^{x} f(y(t), t) \\space dt$$\n",
    "\n",
    "$$\\displaystyle y(x) = y(x_0) + \\int \\limits_{x_0}^{x} f(y(t), t) \\space dt$$\n",
    "\n",
    "$$\\displaystyle y(x) = y_0 + \\int \\limits_{x_0}^{x} f(y(t), t) \\space dt$$\n",
    "\n",
    "Така сведохме задачата на Коши до *интегрално уравнение*. Това означава, че вече вместо да имаме уравнение с $y$ и $y'$, имаме уравнение само с $y$. Това ни позволява да направим последователни приближения, започвайки с $y_0$ от задачата на Коши и обща форма, която се задава по следния начин:\n",
    "\n",
    "$$\\displaystyle y_{i+1}(x) = y_0 + \\int \\limits_{x_0}^{x} f(y_{i}(t), t) \\space dt$$"
   ]
  },
  {
   "cell_type": "markdown",
   "metadata": {},
   "source": [
    "# Задача\n",
    "\n",
    "Дадена е следната задача на Коши\n",
    "\n",
    "$$\n",
    "\\begin{cases}\n",
    "y'=y^2-2x\\\\\n",
    "y(1) = 3\n",
    "\\end{cases}\n",
    "$$\n",
    "\n",
    "Да се намерят първите 3 приближения с метода на Пикар аналитично.\n",
    "\n",
    "Да се начертаят с MATLAB/Octave в една координатна система графиките на третото и на петото проближение на задачата на Коши по метода на Пикар в интервала $x\\in[0, 1]$."
   ]
  },
  {
   "cell_type": "markdown",
   "metadata": {},
   "source": [
    "# Аналитично решение\n",
    "\n",
    "$$\n",
    "\\begin{cases}\n",
    "y' = y^2 - 2x, \\\\\n",
    "y(1) = 3.\n",
    "\\end{cases}\n",
    "$$\n",
    "\n",
    "Интегралното уравнение по метода на Пикар е:\n",
    "\n",
    "$$\n",
    "\\displaystyle y_{i+1}(x) = y_0 + \\int \\limits_{x_0}^{x} (y_i^2(t)-2t) \\space dt\n",
    "$$\n",
    "\n",
    "$$\n",
    "\\displaystyle y_{i+1}(x) = 3 + \\int \\limits_{1}^{x} (y_i^2(t)-2t) \\space dt\n",
    "$$\n",
    "\n",
    "### Първо приближение:\n",
    "\n",
    "$$\n",
    "y_0 = 3.\n",
    "$$\n",
    "\n",
    "### Второ приближение:\n",
    "\n",
    "$$\n",
    "y_1 = 3 + \\int \\limits_{1}^{x} (y_0^2 - 2t) \\space dt = 3 + \\int \\limits_{1}^{x} (9 - 2t) \\space dt.\n",
    "$$\n",
    "\n",
    "$$\n",
    "y_1 = 3 + \\left[ 9t - t^2 \\right]_{1}^{x} = 3 + (9x - x^2 - 9 + 1).\n",
    "$$\n",
    "\n",
    "$$\n",
    "y_1 = 9x - x^2 - 5.\n",
    "$$\n",
    "\n",
    "### Трето приближение:\n",
    "\n",
    "$$\n",
    "y_2 = y_0 + \\int \\limits_{1}^{x} (y_1^2 - 2t) \\space dt.\n",
    "$$\n",
    "\n",
    "Разкриваме скобите:\n",
    "\n",
    "$$\n",
    "y_1^2 = (9t - t^2 - 5)^2 = 81t^2 - 18t^3 + t^4 - 90t + 10t^2 + 25.\n",
    "$$\n",
    "\n",
    "$$\n",
    "= t^4 - 18t^3 + 91t^2 - 90t + 25.\n",
    "$$\n",
    "\n",
    "Следователно:\n",
    "\n",
    "$$\n",
    "y_2 = 3 + \\int \\limits_{1}^{x} (t^4 - 18t^3 + 91t^2 - 92t + 25) \\space dt.\n",
    "$$\n",
    "\n",
    "$$\n",
    "= 3 + \\left[ \\frac{t^5}{5} - \\frac{18t^4}{4} + \\frac{91t^3}{3} - \\frac{92t^2}{2} + 25t \\right]_{1}^{x}.\n",
    "$$\n",
    "\n",
    "$$\n",
    "= 3 + \\left( \\frac{x^5}{5} - \\frac{9x^4}{2} + \\frac{91x^3}{3} - 46x^2 + 25x \\right) - \\left( \\frac{1}{5} - \\frac{9}{2} + \\frac{91}{3} - 46 + 25 \\right).\n",
    "$$\n",
    "\n",
    "След пресмятанията:\n",
    "\n",
    "$$\n",
    "y_2(x) = 3 + \\frac{x^5}{5} - \\frac{9x^4}{2} + \\frac{91x^3}{3} - 46x^2 + 25x - \\frac{151}{30}.\n",
    "$$"
   ]
  },
  {
   "cell_type": "code",
   "execution_count": 33,
   "metadata": {},
   "outputs": [],
   "source": [
    "warning('off','all');\n",
    "pkg load symbolic;\n",
    "graphics_toolkit(\"gnuplot\");"
   ]
  },
  {
   "cell_type": "code",
   "execution_count": 34,
   "metadata": {},
   "outputs": [
    {
     "name": "stdout",
     "output_type": "stream",
     "text": [
      "y_0(x) = (symfun) 3\n",
      "x_0 = 1\n",
      "y_i(x) = (symfun) 3\n",
      "f(x, y) = (symfun)\n",
      "\n",
      "          2\n",
      "  -2*x + y \n",
      "\n"
     ]
    },
    {
     "data": {
      "image/png": "[encoded data removed]",
      "text/plain": [
       "<IPython.core.display.Image object>"
      ]
     },
     "metadata": {},
     "output_type": "display_data"
    }
   ],
   "source": [
    "syms x y_0 y_i y_i_plus_one f y\n",
    "\n",
    "y_0(x) = 3\n",
    "\n",
    "x_0 = 1\n",
    "\n",
    "y_i(x) = y_0(x)\n",
    "\n",
    "f(x, y) = y^2 - 2*x\n",
    "\n",
    "hold on\n",
    "\n",
    "x_axis = 0:0.05:1;\n",
    "\n",
    "for counter = 1:5\n",
    "    if counter == 3 || counter == 5\n",
    "        plot(x_axis, double(subs(y_i, x, x_axis)))\n",
    "    end\n",
    "\n",
    "    y_i_plus_one(x) = y_0(x) + int(f(x, y_i), x, x_0, x);\n",
    "\n",
    "    y_i = y_i_plus_one;\n",
    "end\n",
    "\n",
    "legend('Third approximation', 'Fifth approximation')"
   ]
  },
  {
   "cell_type": "code",
   "execution_count": null,
   "metadata": {},
   "outputs": [],
   "source": []
  }
 ],
 "metadata": {
  "kernelspec": {
   "display_name": "Octave",
   "language": "octave",
   "name": "octave"
  },
  "language_info": {
   "file_extension": ".m",
   "help_links": [
    {
     "text": "GNU Octave",
     "url": "https://www.gnu.org/software/octave/support.html"
    },
    {
     "text": "Octave Kernel",
     "url": "https://github.com/Calysto/octave_kernel"
    },
    {
     "text": "MetaKernel Magics",
     "url": "https://metakernel.readthedocs.io/en/latest/source/README.html"
    }
   ],
   "mimetype": "text/x-octave",
   "name": "octave",
   "version": "9.3.0"
  }
 },
 "nbformat": 4,
 "nbformat_minor": 2
}
