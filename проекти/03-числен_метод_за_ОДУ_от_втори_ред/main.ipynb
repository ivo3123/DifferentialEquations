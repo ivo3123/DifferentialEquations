{
 "cells": [
  {
   "cell_type": "markdown",
   "metadata": {},
   "source": [
    "# Числен метод за ОДУ от втори ред"
   ]
  },
  {
   "cell_type": "markdown",
   "metadata": {},
   "source": [
    "## Общ случай\n",
    "\n",
    "Нека имаме следната задача на Коши\n",
    "\n",
    "$$\n",
    "\\begin{cases}\n",
    "y'' = f(x, y, y')\\\\\n",
    "y(x_0) = y_0\\\\\n",
    "y(x_0) = z_0\n",
    "\\end{cases}\n",
    "$$\n",
    "\n",
    "Ще я решим числено със следната схема.\n",
    "\n",
    "Нека $x\\in[x_0, A], \\quad x_0<A\\in\\mathbb{R}$\n",
    "\n",
    "Дефинираме следнта мрежа: $x_i = x_0 + ih, \\quad i = 0,\\dots,N-1$, където $N\\in\\mathbb{N}$ и $h = \\dfrac{A-x_0}{N}$\n",
    "\n",
    "$N$ е броят възли и колкото по-голямо е $N$, толкова по-малко е $h$.\n",
    "\n",
    "Предполагаме, че $y(x_i) \\approx y_i$, тоест, че нашето приближение е приблизително равно на истинската стойност на решението в същата точка (с някаква грешка)."
   ]
  },
  {
   "cell_type": "markdown",
   "metadata": {},
   "source": [
    "Използваме следната формула за числено диференциране (разлика назад)\n",
    "\n",
    "$$\n",
    "\\begin{align*}\n",
    "y'(x_i)\n",
    "&= \\lim \\limits_{s\\to 0} \\dfrac{y(x_i) - y(x_i-s)}{s}\\\\\n",
    "&\\approx \\dfrac{y(x_i) - y(x_i-h)}{h}\\\\\n",
    "&= \\dfrac{y(x_i) - y(x_{i-1})}{h}\n",
    "\\end{align*}\n",
    "$$\n",
    "\n",
    "Така получаваме\n",
    "\n",
    "$$y'(x_i) = \\dfrac{y(x_i) - y(x_{i-1})}{h}$$\n",
    "\n",
    "Диференцираме по $x_i$\n",
    "\n",
    "$$y''(x_i) = \\dfrac{y'(x_i) - y'(x_{i-1})}{h}$$\n",
    "\n",
    "$y'(x_i)$ и $y'(x_{i-1})$ приближаваме с числено диференциране с разлика напред\n",
    "\n",
    "$$\n",
    "\\begin{align*}\n",
    "y''(x_i)\n",
    "&= \\dfrac{\\lim \\limits_{s\\to 0} \\dfrac{y(x_i+s) - y(x_i)}{s} - \\lim \\limits_{s\\to 0} \\dfrac{y(x_{i-1}+s) - y(x_{i-1})}{s}}{h}\\\\\n",
    "&\\approx \\dfrac{\\dfrac{y(x_i+h) - y(x_i)}{h} - \\dfrac{y(x_{i-1}+h) - y(x_{i-1})}{h}}{h}\\\\\n",
    "&= \\dfrac{y(x_i+h) - y(x_i) - y(x_{i-1}+h) + y(x_{i-1})}{h^2}\\\\\n",
    "&= \\dfrac{y(x_i+h) - y(x_{i}) - y(x_{i}) + y(x_{i-1})}{h^2}\\\\\n",
    "&= \\dfrac{y(x_{i+1}) - 2 y(x_{i}) + y(x_{i-1})}{h^2}\\\\\n",
    "&\\approx \\dfrac{y_{i+1} - 2 y_{i} + y_{i-1}}{h^2}\\\\\n",
    "\\end{align*}\n",
    "$$\n",
    "\n",
    "Така\n",
    "\n",
    "$$y''(x_i) \\approx \\dfrac{y_{i+1} - 2 y_{i} + y_{i-1}}{h^2} = f(x_i, y_i, y'_i)$$\n",
    "\n",
    "Откъдето\n",
    "\n",
    "$$y_{i+1} = 2y_i - y_{i-1} + h^2f(x_i, y_i, y'_i)$$\n",
    "\n",
    "$$y_{i+1} = 2y_i - y_{i-1} + h^2f\\left(x_i, y_i, \\dfrac{y_i - y_{i-1}}{h}\\right)$$\n",
    "\n",
    "Също имам начални условия\n",
    "\n",
    "$$y_0 = y_0$$\n",
    "\n",
    "$$\\dfrac{y_1 - y_{0}}{h} = z_0$$\n",
    "\n",
    "$$y_1 = hz_0 + y_0$$"
   ]
  },
  {
   "cell_type": "markdown",
   "metadata": {},
   "source": [
    "Окончателно численото приближение, което решава задачата се задава със следната диференчна схема:\n",
    "\n",
    "$$y_0 = y_0$$\n",
    "\n",
    "$$y_1 = hz_0 + y_0$$\n",
    "\n",
    "$$y_{i+1} = 2y_i - y_{i-1} + h^2f\\left(x_i, y_i, \\dfrac{y_i - y_{i-1}}{h}\\right) \\quad i=1,\\dots,N-2$$"
   ]
  },
  {
   "cell_type": "markdown",
   "metadata": {},
   "source": [
    "## Задача\n",
    "\n",
    "Дадена е задачата на Коши\n",
    "\n",
    "$$\n",
    "\\begin{cases}\n",
    "y''(x) = x^2 - xyy' + y'\\\\\n",
    "y(0) = 1\\\\\n",
    "y'(0) = 2\n",
    "\\end{cases}\n",
    "$$\n",
    "\n",
    "Да се намери приближение на решението с числен метод за ОДУ от втори ред в интервала $x\\in [0, 5]$ със стъпки $h = 0.1$, $h = 0.02$ и $h = 0.001$. Да се начертаят графиките на трите приближенията в една и съща координатна система."
   ]
  },
  {
   "cell_type": "code",
   "execution_count": 2,
   "metadata": {},
   "outputs": [],
   "source": [
    "warning('off','all');\n",
    "% pkg install -forge symbolic\n",
    "pkg load symbolic;\n",
    "graphics_toolkit(\"gnuplot\");"
   ]
  },
  {
   "cell_type": "code",
   "execution_count": 88,
   "metadata": {},
   "outputs": [],
   "source": [
    "function [nodes, values] = numerical_method(f, x_0, A, y_0, z_0, h)\n",
    "    N = round((A - x_0)/h);\n",
    "\n",
    "    nodes = x_0 + h * (0:N-1);\n",
    "\n",
    "    values = zeros(1, N);\n",
    "\n",
    "    values(1) = y_0;\n",
    "    values(2) = h*z_0 + y_0;\n",
    "\n",
    "    for i = 2:N-1\n",
    "        values(i+1) = 2*values(i) - values(i-1) + h^2 * f(nodes(i), values(i), (values(i) - values(i-1)) / h);\n",
    "    end\n",
    "end"
   ]
  },
  {
   "cell_type": "code",
   "execution_count": 89,
   "metadata": {},
   "outputs": [
    {
     "data": {
      "image/png": "[encoded data removed]",
      "text/plain": [
       "<IPython.core.display.Image object>"
      ]
     },
     "metadata": {},
     "output_type": "display_data"
    }
   ],
   "source": [
    "f = @(x, y, y_prim) x^2 - x*y*y_prim + y_prim;\n",
    "x_0 = 0;\n",
    "A = 5;\n",
    "y_0 = 1;\n",
    "z_0 = 2;\n",
    "\n",
    "hold on\n",
    "\n",
    "for h = [0.1, 0.02, 0.001]\n",
    "    [nodes, values] = numerical_method(f, x_0, A, y_0, z_0, h);\n",
    "    plot(nodes, values)\n",
    "end\n",
    "\n",
    "legend(\"h = 0.1\", \"h = 0.02\", \"h = 0.001\")"
   ]
  },
  {
   "cell_type": "code",
   "execution_count": null,
   "metadata": {},
   "outputs": [],
   "source": []
  },
  {
   "cell_type": "code",
   "execution_count": null,
   "metadata": {},
   "outputs": [],
   "source": []
  }
 ],
 "metadata": {
  "kernelspec": {
   "display_name": "Octave",
   "language": "octave",
   "name": "octave"
  },
  "language_info": {
   "file_extension": ".m",
   "help_links": [
    {
     "text": "GNU Octave",
     "url": "https://www.gnu.org/software/octave/support.html"
    },
    {
     "text": "Octave Kernel",
     "url": "https://github.com/Calysto/octave_kernel"
    },
    {
     "text": "MetaKernel Magics",
     "url": "https://metakernel.readthedocs.io/en/latest/source/README.html"
    }
   ],
   "mimetype": "text/x-octave",
   "name": "octave",
   "version": "9.3.0"
  }
 },
 "nbformat": 4,
 "nbformat_minor": 2
}
