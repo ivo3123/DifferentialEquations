{
 "cells": [
  {
   "cell_type": "code",
   "execution_count": 2,
   "metadata": {},
   "outputs": [],
   "source": [
    "warning('off','all');\n",
    "pkg load symbolic;\n",
    "graphics_toolkit(\"gnuplot\");"
   ]
  },
  {
   "cell_type": "markdown",
   "metadata": {},
   "source": [
    "# Числата на Фибоначи\n",
    "\n",
    "Задачата е да намерим първите $N$ числа на Фибоначи, като напишем похдящ на Octave.\n",
    "\n",
    "Няма да го направим рекурсивно, а итеративно. По-конкретно:\n",
    "\n",
    "* инициализираме масив *nodes* с първите 20 индекса, за който искаме да намерим числата на Фибоначи (т.е. от $0$ до $N-1$)\n",
    "* инициализираме масив *fibonacci_values* с празни елементи, всеки съответстващ на числото на Фибоначи за съответния индекс\n",
    "* запълваме $F =$ *fibonacci_values* по следната математическа схема:\n",
    "    * $F_0 = 0$\n",
    "    * $F_1 = 1$\n",
    "    * $F_{i+1} = F_{i} + F_{i-1}\\quad \\forall i \\ge 2$"
   ]
  },
  {
   "cell_type": "code",
   "execution_count": null,
   "metadata": {},
   "outputs": [
    {
     "data": {
      "image/png": "[encoded data removed]",
      "text/plain": [
       "<IPython.core.display.Image object>"
      ]
     },
     "metadata": {},
     "output_type": "display_data"
    }
   ],
   "source": [
    "N = 20;\n",
    "\n",
    "nodes = 0:1:N-1;\n",
    "\n",
    "fibonacci_values(1) = 0;\n",
    "fibonacci_values(2) = 1;\n",
    "\n",
    "for i = 2:length(nodes)-1\n",
    "    fibonacci_values(i + 1) = fibonacci_values(i) + fibonacci_values(i - 1);\n",
    "end\n",
    "\n",
    "plot(nodes, fibonacci_values, \"o\")"
   ]
  },
  {
   "cell_type": "code",
   "execution_count": 21,
   "metadata": {},
   "outputs": [
    {
     "name": "stdout",
     "output_type": "stream",
     "text": [
      "fibonacci_values =\n",
      "\n",
      " Columns 1 through 11:\n",
      "\n",
      "      0      1      1      2      3      5      8     13     21     34     55\n",
      "\n",
      " Columns 12 through 20:\n",
      "\n",
      "     89    144    233    377    610    987   1597   2584   4181\n",
      "\n"
     ]
    }
   ],
   "source": [
    "fibonacci_values"
   ]
  }
 ],
 "metadata": {
  "kernelspec": {
   "display_name": "Octave",
   "language": "octave",
   "name": "octave"
  },
  "language_info": {
   "file_extension": ".m",
   "help_links": [
    {
     "text": "GNU Octave",
     "url": "https://www.gnu.org/software/octave/support.html"
    },
    {
     "text": "Octave Kernel",
     "url": "https://github.com/Calysto/octave_kernel"
    },
    {
     "text": "MetaKernel Magics",
     "url": "https://metakernel.readthedocs.io/en/latest/source/README.html"
    }
   ],
   "mimetype": "text/x-octave",
   "name": "octave",
   "version": "9.3.0"
  }
 },
 "nbformat": 4,
 "nbformat_minor": 2
}
