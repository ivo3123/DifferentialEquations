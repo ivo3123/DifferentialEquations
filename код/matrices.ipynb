{
 "cells": [
  {
   "cell_type": "code",
   "execution_count": 2,
   "metadata": {},
   "outputs": [],
   "source": [
    "warning('off','all');\n",
    "% pkg install -forge symbolic\n",
    "pkg load symbolic;\n",
    "graphics_toolkit(\"gnuplot\");"
   ]
  },
  {
   "cell_type": "code",
   "execution_count": 15,
   "metadata": {},
   "outputs": [],
   "source": [
    "syms x y(x) y_1(x) y_2(x)"
   ]
  },
  {
   "cell_type": "code",
   "execution_count": 38,
   "metadata": {},
   "outputs": [
    {
     "name": "stdout",
     "output_type": "stream",
     "text": [
      "A = (sym 2x2 matrix)\n",
      "\n",
      "  [0  1]\n",
      "  [    ]\n",
      "  [5  4]\n",
      "\n"
     ]
    }
   ],
   "source": [
    "A = sym([0 1; 5 4])"
   ]
  },
  {
   "cell_type": "code",
   "execution_count": 46,
   "metadata": {},
   "outputs": [
    {
     "name": "stdout",
     "output_type": "stream",
     "text": [
      "eigen_values = (sym 2x1 matrix)\n",
      "\n",
      "  [5 ]\n",
      "  [  ]\n",
      "  [-1]\n",
      "\n"
     ]
    }
   ],
   "source": [
    "eigen_values = eig(A)"
   ]
  },
  {
   "cell_type": "code",
   "execution_count": 47,
   "metadata": {},
   "outputs": [
    {
     "name": "stdout",
     "output_type": "stream",
     "text": [
      "M = (sym 2x2 matrix)\n",
      "\n",
      "  [1  1 ]\n",
      "  [     ]\n",
      "  [5  -1]\n",
      "\n",
      "M_inv = (sym 2x2 matrix)\n",
      "\n",
      "  [1/6  1/6 ]\n",
      "  [         ]\n",
      "  [5/6  -1/6]\n",
      "\n"
     ]
    }
   ],
   "source": [
    "M = sym([1 1; 5 -1])\n",
    "\n",
    "M_inv = inv(M)"
   ]
  },
  {
   "cell_type": "code",
   "execution_count": 48,
   "metadata": {},
   "outputs": [
    {
     "name": "stdout",
     "output_type": "stream",
     "text": [
      "ans = (sym 2x1 matrix)\n",
      "\n",
      "  [          y_1(x)   y_2(x) ]\n",
      "  [ z_1(x) = ------ + ------ ]\n",
      "  [            6        6    ]\n",
      "  [                          ]\n",
      "  [         5*y_1(x)   y_2(x)]\n",
      "  [z_2(x) = -------- - ------]\n",
      "  [            6         6   ]\n",
      "\n"
     ]
    }
   ],
   "source": [
    "syms z_1(x) z_2(x)\n",
    "\n",
    "[z_1; z_2] == M_inv * [y_1; y_2]"
   ]
  },
  {
   "cell_type": "code",
   "execution_count": 66,
   "metadata": {},
   "outputs": [
    {
     "name": "stdout",
     "output_type": "stream",
     "text": [
      "ans = (sym)\n",
      "\n",
      "  /     6*x      \\  -x\n",
      "  \\C_1*e    + C_2/*e  \n",
      "\n",
      "ans = (sym)\n",
      "\n",
      "  /       6*x      \\  -x\n",
      "  \\5*C_1*e    - C_2/*e  \n",
      "\n"
     ]
    }
   ],
   "source": [
    "syms C_1 C_2\n",
    "\n",
    "sol= solve(\n",
    "    [C_1*exp(5*x); C_2*exp(-x)] == M_inv * [y_1; y_2],\n",
    "    [y_1, y_2]\n",
    ");\n",
    "\n",
    "fields = fieldnames(sol);\n",
    "sol.(fields{1})  % Достъп до y_1(x)\n",
    "sol.(fields{2})  % Достъп до y_2(x)"
   ]
  },
  {
   "cell_type": "code",
   "execution_count": 16,
   "metadata": {},
   "outputs": [
    {
     "name": "stdout",
     "output_type": "stream",
     "text": [
      "ans = (sym)\n",
      "\n",
      "      -x       5*x\n",
      "  C1*e   + C2*e   \n",
      "\n"
     ]
    }
   ],
   "source": [
    "dsolve(diff(y, x, x) - 4*diff(y, x) - 5*y == 0)"
   ]
  },
  {
   "cell_type": "code",
   "execution_count": 30,
   "metadata": {},
   "outputs": [
    {
     "name": "stdout",
     "output_type": "stream",
     "text": [
      "ans = (sym)\n",
      "\n",
      "                 5*x\n",
      "        -x   C2*e   \n",
      "  - C1*e   + -------\n",
      "                5   \n",
      "\n",
      "ans = (sym)\n",
      "\n",
      "      -x       5*x\n",
      "  C1*e   + C2*e   \n",
      "\n"
     ]
    }
   ],
   "source": [
    "sol = dsolve([diff(y_1, x) == y_2; diff(y_2, x) == 5*y_1 + 4*y_2]);\n",
    "\n",
    "sol.y_1\n",
    "sol.y_2"
   ]
  },
  {
   "cell_type": "code",
   "execution_count": 12,
   "metadata": {},
   "outputs": [
    {
     "name": "stdout",
     "output_type": "stream",
     "text": [
      "ans = (sym)\n",
      "\n",
      "                           -2*x\n",
      "  (C1*sin(x) + C2*cos(x))*e    \n",
      "\n"
     ]
    }
   ],
   "source": [
    "dsolve(diff(y, x, x) + 4*diff(y, x) + 5*y == 0)"
   ]
  },
  {
   "cell_type": "code",
   "execution_count": 11,
   "metadata": {},
   "outputs": [
    {
     "name": "stdout",
     "output_type": "stream",
     "text": [
      "ans = (sym)\n",
      "\n",
      "               -2*x\n",
      "  (C1 + C2*x)*e    \n",
      "\n"
     ]
    }
   ],
   "source": [
    "dsolve(diff(y, x, x) + 4*diff(y, x) + 4*y == 0)"
   ]
  },
  {
   "cell_type": "code",
   "execution_count": 5,
   "metadata": {},
   "outputs": [
    {
     "name": "stdout",
     "output_type": "stream",
     "text": [
      "A = (sym 2x2 matrix)\n",
      "\n",
      "  [0   1 ]\n",
      "  [      ]\n",
      "  [-4  -4]\n",
      "\n",
      "ans = (sym 2x2 matrix)\n",
      "\n",
      "  [0  -4]\n",
      "  [     ]\n",
      "  [1  -4]\n",
      "\n"
     ]
    }
   ],
   "source": [
    "A = sym([0 1; -4 -4])\n",
    "\n",
    "transpose(A)"
   ]
  }
 ],
 "metadata": {
  "kernelspec": {
   "display_name": "Octave",
   "language": "octave",
   "name": "octave"
  },
  "language_info": {
   "file_extension": ".m",
   "help_links": [
    {
     "text": "GNU Octave",
     "url": "https://www.gnu.org/software/octave/support.html"
    },
    {
     "text": "Octave Kernel",
     "url": "https://github.com/Calysto/octave_kernel"
    },
    {
     "text": "MetaKernel Magics",
     "url": "https://metakernel.readthedocs.io/en/latest/source/README.html"
    }
   ],
   "mimetype": "text/x-octave",
   "name": "octave",
   "version": "9.3.0"
  }
 },
 "nbformat": 4,
 "nbformat_minor": 2
}
