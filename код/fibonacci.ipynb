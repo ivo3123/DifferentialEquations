{
 "cells": [
  {
   "cell_type": "code",
   "execution_count": 4,
   "metadata": {},
   "outputs": [],
   "source": [
    "warning('off','all');\n",
    "pkg load symbolic;\n",
    "graphics_toolkit(\"gnuplot\");"
   ]
  },
  {
   "cell_type": "code",
   "execution_count": 27,
   "metadata": {},
   "outputs": [
    {
     "name": "stdout",
     "output_type": "stream",
     "text": [
      "ans = (sym) 0\n",
      "ans = (sym) 1\n",
      "y(x) = (symfun) y\n",
      "numerator = (sym) x - 2*y + 2\n",
      "y(x) = (symfun) y\n",
      "ans = (sym) y\n"
     ]
    }
   ],
   "source": [
    "syms x y\n",
    "\n",
    "numerator = x - 2*y + 2;\n",
    "denominator = y - x - 1;\n",
    "\n",
    "sol = solve([numerator == 0, denominator == 0], [x, y]);\n",
    "\n",
    "sol.x\n",
    "sol.y\n",
    "\n",
    "y(x) = y\n",
    "\n",
    "numerator\n",
    "\n",
    "y\n",
    "y(x)"
   ]
  },
  {
   "cell_type": "code",
   "execution_count": null,
   "metadata": {},
   "outputs": [
    {
     "name": "stdout",
     "output_type": "stream",
     "text": [
      "ode = (sym)\n",
      "\n",
      "  d           \n",
      "  --(y(x)) = x\n",
      "  dx          \n",
      "\n"
     ]
    }
   ],
   "source": [
    "ode = diff(y, x) == numerator / denominator"
   ]
  },
  {
   "cell_type": "code",
   "execution_count": 10,
   "metadata": {},
   "outputs": [
    {
     "name": "stdout",
     "output_type": "stream",
     "text": [
      "ans = (sym) x - 2*y(x) + 2 = 0\n"
     ]
    }
   ],
   "source": [
    "numerator == 0"
   ]
  },
  {
   "cell_type": "code",
   "execution_count": 22,
   "metadata": {},
   "outputs": [
    {
     "name": "stdout",
     "output_type": "stream",
     "text": [
      "sol =\n",
      "\n",
      "  scalar structure containing the fields:\n",
      "\n",
      "    x =\n",
      "\n",
      "      <class sym>\n",
      "\n",
      "    y(x) =\n",
      "\n",
      "      <class sym>\n",
      "\n",
      "\n",
      "error: structure has no member 'y'\n"
     ]
    }
   ],
   "source": [
    "sol = solve([numerator == 0, denominator == 0], [x, y])\n",
    "\n",
    "sol.y"
   ]
  },
  {
   "cell_type": "code",
   "execution_count": 40,
   "metadata": {},
   "outputs": [
    {
     "name": "stdout",
     "output_type": "stream",
     "text": [
      "expr(x) = (symfun) 4*x - y(x) + 1\n",
      "u(x) = (symfun) 4*x - y(x) + 1\n",
      "ans(x) = (symfun)\n",
      "\n",
      "      d       \n",
      "  4 - --(y(x))\n",
      "      dx      \n",
      "\n"
     ]
    }
   ],
   "source": [
    "syms x y(x)\n",
    "\n",
    "expr = 4*x - y + 1\n",
    "\n",
    "u = expr\n",
    "\n",
    "diff(u, x)"
   ]
  },
  {
   "cell_type": "code",
   "execution_count": null,
   "metadata": {},
   "outputs": [
    {
     "name": "stdout",
     "output_type": "stream",
     "text": [
      "u(x) = (symfun) 4*x - y(x) + 1\n",
      "error: Python exception: NotImplementedError: could not solve _Dummy_10753 + y(x) - 4\n",
      "    occurred at line 29 of the Python code block:\n",
      "    d = sp.solve(eqs, *symbols, dict=True)\n",
      "error: called from\n",
      "    pycall_sympy__ at line 179 column 7\n",
      "    solve at line 182 column 9\n",
      "ans(x) = (symfun)\n",
      "\n",
      "      d       \n",
      "  4 - --(y(x))\n",
      "      dx      \n",
      "\n"
     ]
    }
   ],
   "source": [
    "syms x y(x)\n",
    "\n",
    "u = 4*x - y + 1\n",
    "\n",
    "solve(diff(u ,x) == y, )\n",
    "\n",
    "diff(u, x)"
   ]
  },
  {
   "cell_type": "code",
   "execution_count": null,
   "metadata": {},
   "outputs": [],
   "source": [
    "dsolve(diff(y, x) == (4*x - y + 1)^2)"
   ]
  },
  {
   "cell_type": "code",
   "execution_count": 54,
   "metadata": {},
   "outputs": [
    {
     "name": "stdout",
     "output_type": "stream",
     "text": [
      "y(x) = (symfun)\n",
      "\n",
      "        /   ___   \\\n",
      "        |-\\/ 2 *x |\n",
      "  -2*log|---------|\n",
      "        \\    2    /\n",
      "\n",
      "ans(x) = (symfun)\n",
      "\n",
      "  2 \n",
      "  --\n",
      "   2\n",
      "  x \n",
      "\n"
     ]
    }
   ],
   "source": [
    "syms x\n",
    "\n",
    "y(x) = -2 * log(-x * sqrt(2)/2)\n",
    "\n",
    "diff(y, x, x)"
   ]
  },
  {
   "cell_type": "code",
   "execution_count": 55,
   "metadata": {},
   "outputs": [
    {
     "name": "stdout",
     "output_type": "stream",
     "text": [
      "ans = (sym)\n",
      "\n",
      "  2 \n",
      "  --\n",
      "   2\n",
      "  x \n",
      "\n"
     ]
    }
   ],
   "source": [
    "e^y(x)"
   ]
  },
  {
   "cell_type": "code",
   "execution_count": 61,
   "metadata": {},
   "outputs": [
    {
     "name": "stdout",
     "output_type": "stream",
     "text": [
      "sol = (sym)\n",
      "\n",
      "     /              2            \\         \n",
      "     |           C_2             |         \n",
      "  log|---------------------------| + log(2)\n",
      "     |    /  ___            \\    |         \n",
      "     \\cosh\\\\/ 2 *C_2*x + C_4/ - 1/         \n",
      "\n"
     ]
    }
   ],
   "source": [
    "syms x y C_2 C_4\n",
    "\n",
    "sol = solve(log((sqrt(exp(y)+C_2^2)+C_2)/(sqrt(exp(y)+C_2^2)-C_2)) == sqrt(2)*C_2*x+C_4, y)"
   ]
  },
  {
   "cell_type": "code",
   "execution_count": 65,
   "metadata": {},
   "outputs": [
    {
     "name": "stdout",
     "output_type": "stream",
     "text": [
      "sol(x) = (symfun)\n",
      "\n",
      "     /              2            \\         \n",
      "     |           C_2             |         \n",
      "  log|---------------------------| + log(2)\n",
      "     |    /  ___            \\    |         \n",
      "     \\cosh\\\\/ 2 *C_2*x + C_4/ - 1/         \n",
      "\n",
      "ans = (sym) True\n"
     ]
    }
   ],
   "source": [
    "sol(x) = sol\n",
    "\n",
    "simplify(diff(sol, x, x)) == simplify(exp(sol))"
   ]
  },
  {
   "cell_type": "code",
   "execution_count": 68,
   "metadata": {},
   "outputs": [
    {
     "name": "stdout",
     "output_type": "stream",
     "text": [
      "y(x) = (symfun) C_4 - 2*log(C_2 - x)\n",
      "ans(x) = (symfun)\n",
      "\n",
      "      4     \n",
      "  ----------\n",
      "           3\n",
      "  (C_2 - x) \n",
      "\n",
      "ans(x) = (symfun)\n",
      "\n",
      "      4     \n",
      "  ----------\n",
      "           3\n",
      "  (C_2 - x) \n",
      "\n"
     ]
    }
   ],
   "source": [
    "syms x C_2 C_4\n",
    "\n",
    "y(x) = C_4 - 2 * log(C_2 - x)\n",
    "\n",
    "diff(y, x, x, x)\n",
    "diff(y, x, x) * diff(y, x)"
   ]
  },
  {
   "cell_type": "code",
   "execution_count": 6,
   "metadata": {},
   "outputs": [],
   "source": [
    "syms x y C_1 C_2"
   ]
  },
  {
   "cell_type": "code",
   "execution_count": 15,
   "metadata": {},
   "outputs": [
    {
     "name": "stdout",
     "output_type": "stream",
     "text": [
      "ans = (sym)\n",
      "\n",
      "      //   /   2/C_1*x      \\    \\              \\\n",
      "      ||log|tan |----- + C_2| + 1|              |\n",
      "      ||   \\    \\  2        /    /              |\n",
      "  C_1*|<--------------------------  for C_1 != 0|\n",
      "      ||           C_1                          |\n",
      "      ||                                        |\n",
      "      \\\\        x*tan(C_2)           otherwise  /\n",
      "\n"
     ]
    }
   ],
   "source": [
    "int(solve(atan(y / C_1) == C_1 * x / 2 + C_2, y), x)"
   ]
  },
  {
   "cell_type": "code",
   "execution_count": 32,
   "metadata": {},
   "outputs": [
    {
     "name": "stdout",
     "output_type": "stream",
     "text": [
      "sol(x) = (symfun)\n",
      "\n",
      "        /   /C_1*x      \\\\\n",
      "  -2*log|cos|----- + C_2||\n",
      "        \\   \\  2        //\n",
      "\n"
     ]
    }
   ],
   "source": [
    "sol(x) = -2*log(cos(C_1*x/2+C_2))"
   ]
  },
  {
   "cell_type": "code",
   "execution_count": 33,
   "metadata": {},
   "outputs": [
    {
     "name": "stdout",
     "output_type": "stream",
     "text": [
      "lhs(x) = (symfun)\n",
      "\n",
      "       /   2/C_1*x      \\    \\                 \n",
      "       |sin |----- + C_2|    |                 \n",
      "     3 |    \\  2        /    |    /C_1*x      \\\n",
      "  C_1 *|----------------- + 1|*sin|----- + C_2|\n",
      "       |   2/C_1*x      \\    |    \\  2        /\n",
      "       |cos |----- + C_2|    |                 \n",
      "       \\    \\  2        /    /                 \n",
      "  ---------------------------------------------\n",
      "                    /C_1*x      \\              \n",
      "               2*cos|----- + C_2|              \n",
      "                    \\  2        /              \n",
      "\n"
     ]
    }
   ],
   "source": [
    "lhs = diff(sol, x, x, x)"
   ]
  },
  {
   "cell_type": "code",
   "execution_count": 34,
   "metadata": {},
   "outputs": [
    {
     "name": "stdout",
     "output_type": "stream",
     "text": [
      "rhs(x) = (symfun)\n",
      "\n",
      "       /   2/C_1*x      \\    \\                 \n",
      "       |sin |----- + C_2|    |                 \n",
      "     3 |    \\  2        /    |    /C_1*x      \\\n",
      "  C_1 *|----------------- + 1|*sin|----- + C_2|\n",
      "       |   2/C_1*x      \\    |    \\  2        /\n",
      "       |cos |----- + C_2|    |                 \n",
      "       \\    \\  2        /    /                 \n",
      "  ---------------------------------------------\n",
      "                    /C_1*x      \\              \n",
      "               2*cos|----- + C_2|              \n",
      "                    \\  2        /              \n",
      "\n"
     ]
    }
   ],
   "source": [
    "rhs = diff(sol, x) * diff(sol, x, x)"
   ]
  },
  {
   "cell_type": "code",
   "execution_count": 31,
   "metadata": {},
   "outputs": [
    {
     "name": "stdout",
     "output_type": "stream",
     "text": [
      "ans = (sym) True\n"
     ]
    }
   ],
   "source": [
    "simplify(lhs) == simplify(rhs)"
   ]
  },
  {
   "cell_type": "code",
   "execution_count": null,
   "metadata": {},
   "outputs": [],
   "source": []
  }
 ],
 "metadata": {
  "kernelspec": {
   "display_name": "Octave",
   "language": "octave",
   "name": "octave"
  },
  "language_info": {
   "file_extension": ".m",
   "help_links": [
    {
     "text": "GNU Octave",
     "url": "https://www.gnu.org/software/octave/support.html"
    },
    {
     "text": "Octave Kernel",
     "url": "https://github.com/Calysto/octave_kernel"
    },
    {
     "text": "MetaKernel Magics",
     "url": "https://metakernel.readthedocs.io/en/latest/source/README.html"
    }
   ],
   "mimetype": "text/x-octave",
   "name": "octave",
   "version": "9.3.0"
  }
 },
 "nbformat": 4,
 "nbformat_minor": 2
}
