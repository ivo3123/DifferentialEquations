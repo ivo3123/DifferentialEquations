{
 "cells": [
  {
   "cell_type": "code",
   "execution_count": 4,
   "metadata": {},
   "outputs": [],
   "source": [
    "warning('off','all');\n",
    "% pkg install -forge symbolic\n",
    "pkg load symbolic;\n",
    "graphics_toolkit(\"gnuplot\");"
   ]
  },
  {
   "cell_type": "markdown",
   "metadata": {},
   "source": [
    "Нека имаме следната задача на Коши\n",
    "\n",
    "$$\n",
    "\\begin{cases}\n",
    "y' = x^2 + y\\\\\n",
    "y(0) = 2\n",
    "\\end{cases}\n",
    "$$\n",
    "\n",
    "1. Да се реши символно\n",
    "2. Да се реши числено\n",
    "3. Да се начертаят графиката на символното решение и графиката на численото проближение в интервала $x\\in[0,3]$ в една и съща координатна система"
   ]
  },
  {
   "cell_type": "markdown",
   "metadata": {},
   "source": [
    "## Символно решаване с dsolve"
   ]
  },
  {
   "cell_type": "code",
   "execution_count": 64,
   "metadata": {},
   "outputs": [
    {
     "name": "stdout",
     "output_type": "stream",
     "text": [
      "equation = (sym)\n",
      "\n",
      "  d           2       \n",
      "  --(y(x)) = x  + y(x)\n",
      "  dx                  \n",
      "\n",
      "initial_condition_1 = (sym) y(0) = 2\n",
      "solution = (sym)\n",
      "\n",
      "     2            x    \n",
      "  - x  - 2*x + 4*e  - 2\n",
      "\n"
     ]
    }
   ],
   "source": [
    "syms x y(x);  % символни променливи\n",
    "\n",
    "x_0 = 0;\n",
    "y_0 = 2;\n",
    "\n",
    "equation = (diff(y, x)) == x^2 + y  % y' = x^2 + y\n",
    "\n",
    "initial_condition_1 = y(x_0) == y_0  % y(x_0) = y_0\n",
    "\n",
    "solution = dsolve([equation], [initial_condition_1])\n",
    "% решенито е символен обект и не числена стойност, затова после се вика eval или double(subs(...))"
   ]
  },
  {
   "cell_type": "markdown",
   "metadata": {},
   "source": [
    "## Числено решаване с ode45"
   ]
  },
  {
   "cell_type": "code",
   "execution_count": 65,
   "metadata": {},
   "outputs": [],
   "source": [
    "function dydx = f(x, y)\n",
    "    dydx = x^2 + y;\n",
    "end\n",
    "\n",
    "xspan = [0 3];\n",
    "y0 = [2];\n",
    "\n",
    "[nodes, values] = ode45(@f, xspan, y0);"
   ]
  },
  {
   "cell_type": "markdown",
   "metadata": {},
   "source": [
    "## Чертаене на графики"
   ]
  },
  {
   "cell_type": "code",
   "execution_count": null,
   "metadata": {},
   "outputs": [
    {
     "data": {
      "image/png": "[encoded data removed]",
      "text/plain": [
       "<IPython.core.display.Image object>"
      ]
     },
     "metadata": {},
     "output_type": "display_data"
    }
   ],
   "source": [
    "hold on;  % всички елементи, които ще добавяме ще са върху текущата картинка и не върху друга\n",
    "grid on;  % слага координатна система\n",
    "\n",
    "x_axis = linspace(0, 3, 50);  % трябва да се казва точно x\n",
    "\n",
    "% plot(x_axis, eval(solution)) ако работите на MATLAB\n",
    "plot(x_axis, double(subs(solution, x, x_axis)))\n",
    "plot(nodes, values)\n",
    "\n",
    "legend(\"Exact solution\", \"Approximation\")"
   ]
  },
  {
   "cell_type": "code",
   "execution_count": null,
   "metadata": {},
   "outputs": [],
   "source": []
  }
 ],
 "metadata": {
  "kernelspec": {
   "display_name": "Octave",
   "language": "octave",
   "name": "octave"
  },
  "language_info": {
   "file_extension": ".m",
   "help_links": [
    {
     "text": "GNU Octave",
     "url": "https://www.gnu.org/software/octave/support.html"
    },
    {
     "text": "Octave Kernel",
     "url": "https://github.com/Calysto/octave_kernel"
    },
    {
     "text": "MetaKernel Magics",
     "url": "https://metakernel.readthedocs.io/en/latest/source/README.html"
    }
   ],
   "mimetype": "text/x-octave",
   "name": "octave",
   "version": "9.3.0"
  }
 },
 "nbformat": 4,
 "nbformat_minor": 2
}
