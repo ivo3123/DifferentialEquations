{
 "cells": [
  {
   "cell_type": "code",
   "execution_count": 3,
   "metadata": {},
   "outputs": [],
   "source": [
    "warning('off','all');\n",
    "% pkg install -forge symbolic\n",
    "pkg load symbolic;\n",
    "graphics_toolkit(\"gnuplot\");"
   ]
  },
  {
   "cell_type": "markdown",
   "metadata": {},
   "source": [
    "## Символно смятане\n",
    "\n",
    "Дефинираме променливи, на които можем да не присвояваме стойности.\n",
    "\n",
    "Като синтакс много се донлижава до математически изрази."
   ]
  },
  {
   "cell_type": "code",
   "execution_count": null,
   "metadata": {},
   "outputs": [
    {
     "name": "stdout",
     "output_type": "stream",
     "text": [
      "x = (sym) x\n",
      "C = (sym) C\n"
     ]
    }
   ],
   "source": [
    "syms x;\n",
    "\n",
    "x, C"
   ]
  },
  {
   "cell_type": "code",
   "execution_count": 6,
   "metadata": {},
   "outputs": [
    {
     "name": "stdout",
     "output_type": "stream",
     "text": [
      "ans = (sym)\n",
      "\n",
      "     2      \n",
      "  4*x  - 3*x\n",
      "\n"
     ]
    }
   ],
   "source": [
    "((2*x)^2) - 3*x"
   ]
  },
  {
   "cell_type": "markdown",
   "metadata": {},
   "source": [
    "### Символно уравнение\n",
    "\n",
    "Можем да дефинираме уравнение (равенство) с оператора `==`."
   ]
  },
  {
   "cell_type": "code",
   "execution_count": 7,
   "metadata": {},
   "outputs": [
    {
     "name": "stdout",
     "output_type": "stream",
     "text": [
      "ans = (sym)\n",
      "\n",
      "       2    \n",
      "  x = x  - x\n",
      "\n"
     ]
    }
   ],
   "source": [
    "x == x^2 - x"
   ]
  },
  {
   "cell_type": "markdown",
   "metadata": {},
   "source": [
    "Ако двете страни на равенството са еквивалентно равни (тоест са равни са всички стойности на $x$), то оператор `==` ще ни върне `true`."
   ]
  },
  {
   "cell_type": "code",
   "execution_count": 9,
   "metadata": {},
   "outputs": [
    {
     "name": "stdout",
     "output_type": "stream",
     "text": [
      "ans = (sym) True\n"
     ]
    }
   ],
   "source": [
    "x + x == 2*x"
   ]
  },
  {
   "cell_type": "markdown",
   "metadata": {},
   "source": [
    "Възможно е да има еквивалентно тъждество, но оператор `==` да не ни върне `true`."
   ]
  },
  {
   "cell_type": "code",
   "execution_count": 10,
   "metadata": {},
   "outputs": [
    {
     "name": "stdout",
     "output_type": "stream",
     "text": [
      "ans = (sym)\n",
      "\n",
      "         2    2          \n",
      "  (x + 1)  = x  + 2*x + 1\n",
      "\n"
     ]
    }
   ],
   "source": [
    "(x+1)^2 == x^2 + 2*x + 1"
   ]
  },
  {
   "cell_type": "markdown",
   "metadata": {},
   "source": [
    "Тогава можем да използваме функции като `expand(символичен израз)` - разкрива скоби и `simplify(символен израз)` - опростява израз."
   ]
  },
  {
   "cell_type": "code",
   "execution_count": 11,
   "metadata": {},
   "outputs": [
    {
     "name": "stdout",
     "output_type": "stream",
     "text": [
      "ans = (sym) True\n"
     ]
    }
   ],
   "source": [
    "expand((x+1)^2) == x^2 + 2*x + 1"
   ]
  },
  {
   "cell_type": "markdown",
   "metadata": {},
   "source": [
    "### Алгебрични символни изрази\n",
    "\n",
    "Можем да сметнем алгебични уравнения с функцията `solve(символно уравнение, за коя променлива решаваме)`."
   ]
  },
  {
   "cell_type": "code",
   "execution_count": 12,
   "metadata": {},
   "outputs": [
    {
     "name": "stdout",
     "output_type": "stream",
     "text": [
      "ans = (sym 2x1 matrix)\n",
      "\n",
      "  [0]\n",
      "  [ ]\n",
      "  [2]\n",
      "\n"
     ]
    }
   ],
   "source": [
    "solve(x == x^2 - x, x)"
   ]
  },
  {
   "cell_type": "markdown",
   "metadata": {},
   "source": [
    "В случая резултатът е вектор-стълб от решенията на уравнението."
   ]
  },
  {
   "cell_type": "markdown",
   "metadata": {},
   "source": [
    "## Символни функции\n",
    "\n",
    "Можем да дефинираме символни функции, които можем да интегрираме и диференцираме."
   ]
  },
  {
   "cell_type": "code",
   "execution_count": 24,
   "metadata": {},
   "outputs": [
    {
     "name": "stdout",
     "output_type": "stream",
     "text": [
      "f(x) = (symfun)\n",
      "\n",
      "   2      \n",
      "  x  - 3*x\n",
      "\n"
     ]
    }
   ],
   "source": [
    "syms x f\n",
    "\n",
    "f(x) = x^2 - 3*x"
   ]
  },
  {
   "cell_type": "code",
   "execution_count": 25,
   "metadata": {},
   "outputs": [
    {
     "name": "stdout",
     "output_type": "stream",
     "text": [
      "ans(x) = (symfun)\n",
      "\n",
      "   3      2\n",
      "  x    3*x \n",
      "  -- - ----\n",
      "  3     2  \n",
      "\n"
     ]
    }
   ],
   "source": [
    "int(f, x)"
   ]
  },
  {
   "cell_type": "code",
   "execution_count": 26,
   "metadata": {},
   "outputs": [
    {
     "name": "stdout",
     "output_type": "stream",
     "text": [
      "ans(x) = (symfun) 2*x - 3\n"
     ]
    }
   ],
   "source": [
    "diff(f, x)"
   ]
  },
  {
   "cell_type": "markdown",
   "metadata": {},
   "source": [
    "## Проверка дали получено решение е правилно\n",
    "\n",
    "Често срещен проблем е следният: дадена е задача, решаваме я и получаваме решение и искаме да проверим дали е вярно.\n",
    "\n",
    "Нека да конкретизираме.\n",
    "\n",
    "Дадено е следнната задача на Коши:\n",
    "\n",
    "$$\n",
    "\\begin{cases}\n",
    "y' = (5x+y-1)^2 - 4(5x+y-1)\\\\\n",
    "y(1) = 1\n",
    "\\end{cases}\n",
    "$$\n",
    "\n",
    "В семинар 02 я решихме и получихме следното решение:\n",
    "\n",
    "$$y = 3-5x+\\tan{(x+C)}$$\n",
    "\n",
    "$$C = \\arctan{3} - 1$$"
   ]
  },
  {
   "cell_type": "markdown",
   "metadata": {},
   "source": [
    "Нека първо проверим дали сме сметнали $C$ правилно."
   ]
  },
  {
   "cell_type": "code",
   "execution_count": 13,
   "metadata": {},
   "outputs": [],
   "source": [
    "syms x C"
   ]
  },
  {
   "cell_type": "code",
   "execution_count": 14,
   "metadata": {},
   "outputs": [
    {
     "name": "stdout",
     "output_type": "stream",
     "text": [
      "y(x) = (symfun) -5*x + tan(C + x) + 3\n"
     ]
    }
   ],
   "source": [
    "y(x) = 3 - 5*x + tan(x + C)"
   ]
  },
  {
   "cell_type": "code",
   "execution_count": 15,
   "metadata": {},
   "outputs": [
    {
     "name": "stdout",
     "output_type": "stream",
     "text": [
      "ans = (sym) -1 + atan(3)\n"
     ]
    }
   ],
   "source": [
    "solve(y(1) == 1, C)"
   ]
  },
  {
   "cell_type": "code",
   "execution_count": 16,
   "metadata": {},
   "outputs": [
    {
     "name": "stdout",
     "output_type": "stream",
     "text": [
      "y(x) = (symfun) -5*x + tan(x - 1 + atan(3)) + 3\n"
     ]
    }
   ],
   "source": [
    "determined_C = solve(y(1) == 1, C);\n",
    "\n",
    "y(x) = 3 - 5*x + tan(x + determined_C)"
   ]
  },
  {
   "cell_type": "markdown",
   "metadata": {},
   "source": [
    "Изглежда $C$ е каквото очаквахме.\n",
    "\n",
    "Сега ще проверим дали решенито е коректно, като заместим с полученото решение в даденото диференциално уравнение."
   ]
  },
  {
   "cell_type": "code",
   "execution_count": 17,
   "metadata": {},
   "outputs": [
    {
     "name": "stdout",
     "output_type": "stream",
     "text": [
      "lhs = (sym)\n",
      "\n",
      "     2                     \n",
      "  tan (x - 1 + atan(3)) - 4\n",
      "\n"
     ]
    }
   ],
   "source": [
    "lhs = diff(y(x), x)"
   ]
  },
  {
   "cell_type": "code",
   "execution_count": 18,
   "metadata": {},
   "outputs": [
    {
     "name": "stdout",
     "output_type": "stream",
     "text": [
      "rhs(x) = (symfun)\n",
      "\n",
      "                            2                             \n",
      "  (tan(x - 1 + atan(3)) + 2)  - 4*tan(x - 1 + atan(3)) - 8\n",
      "\n"
     ]
    }
   ],
   "source": [
    "rhs = (5*x + y - 1)^2 - 4*(5*x + y - 1)"
   ]
  },
  {
   "cell_type": "code",
   "execution_count": 19,
   "metadata": {},
   "outputs": [
    {
     "name": "stdout",
     "output_type": "stream",
     "text": [
      "ans = (sym)\n",
      "\n",
      "     2                                                  2                        >\n",
      "  tan (x - 1 + atan(3)) - 4 = (tan(x - 1 + atan(3)) + 2)  - 4*tan(x - 1 + atan(3 >\n",
      "  \n",
      "  >       \n",
      "  > )) - 8\n",
      "\n"
     ]
    }
   ],
   "source": [
    "lhs == rhs"
   ]
  },
  {
   "cell_type": "code",
   "execution_count": 20,
   "metadata": {},
   "outputs": [
    {
     "name": "stdout",
     "output_type": "stream",
     "text": [
      "ans = (sym) True\n"
     ]
    }
   ],
   "source": [
    "simplify(lhs) == simplify(rhs)"
   ]
  },
  {
   "cell_type": "code",
   "execution_count": null,
   "metadata": {},
   "outputs": [],
   "source": []
  }
 ],
 "metadata": {
  "kernelspec": {
   "display_name": "Octave",
   "language": "octave",
   "name": "octave"
  },
  "language_info": {
   "file_extension": ".m",
   "help_links": [
    {
     "text": "GNU Octave",
     "url": "https://www.gnu.org/software/octave/support.html"
    },
    {
     "text": "Octave Kernel",
     "url": "https://github.com/Calysto/octave_kernel"
    },
    {
     "text": "MetaKernel Magics",
     "url": "https://metakernel.readthedocs.io/en/latest/source/README.html"
    }
   ],
   "mimetype": "text/x-octave",
   "name": "octave",
   "version": "9.3.0"
  }
 },
 "nbformat": 4,
 "nbformat_minor": 2
}
