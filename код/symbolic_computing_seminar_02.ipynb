{
 "cells": [
  {
   "cell_type": "code",
   "execution_count": 2,
   "metadata": {},
   "outputs": [],
   "source": [
    "% pkg install -forge symbolic"
   ]
  },
  {
   "cell_type": "code",
   "execution_count": 3,
   "metadata": {},
   "outputs": [],
   "source": [
    "warning('off','all');\n",
    "pkg load symbolic;\n",
    "graphics_toolkit(\"gnuplot\");"
   ]
  },
  {
   "cell_type": "code",
   "execution_count": 4,
   "metadata": {},
   "outputs": [
    {
     "name": "stdout",
     "output_type": "stream",
     "text": [
      "Symbolic pkg v3.2.1: Python communication link active, SymPy v1.13.3.\n",
      "x = (sym) x\n",
      "C = (sym) C\n"
     ]
    }
   ],
   "source": [
    "syms x C;\n",
    "\n",
    "x, C"
   ]
  },
  {
   "cell_type": "code",
   "execution_count": 5,
   "metadata": {},
   "outputs": [
    {
     "name": "stdout",
     "output_type": "stream",
     "text": [
      "ans = (sym)\n",
      "\n",
      "     2      \n",
      "  4*x  - 3*x\n",
      "\n"
     ]
    }
   ],
   "source": [
    "((2*x)^2) - 3*x"
   ]
  },
  {
   "cell_type": "code",
   "execution_count": 6,
   "metadata": {},
   "outputs": [
    {
     "name": "stdout",
     "output_type": "stream",
     "text": [
      "ans = (sym 2x1 matrix)\n",
      "\n",
      "  [      ____]\n",
      "  [3   \\/ 41 ]\n",
      "  [- - ------]\n",
      "  [8     8   ]\n",
      "  [          ]\n",
      "  [      ____]\n",
      "  [3   \\/ 41 ]\n",
      "  [- + ------]\n",
      "  [8     8   ]\n",
      "\n"
     ]
    }
   ],
   "source": [
    "solve(((2*x)^2) - 3*x == 2, x)"
   ]
  },
  {
   "cell_type": "code",
   "execution_count": 7,
   "metadata": {},
   "outputs": [
    {
     "name": "stdout",
     "output_type": "stream",
     "text": [
      "k = 2.3000\n",
      "ans = 448.68\n"
     ]
    }
   ],
   "source": [
    "k = 2.3\n",
    "\n",
    "((2*k)^4) - log(k) * tan(k)"
   ]
  },
  {
   "cell_type": "code",
   "execution_count": 8,
   "metadata": {},
   "outputs": [
    {
     "name": "stdout",
     "output_type": "stream",
     "text": [
      "y(x) = (symfun) -5*x + tan(C + x) + 3\n"
     ]
    }
   ],
   "source": [
    "y(x) = 3 - 5*x + tan(x + C)"
   ]
  },
  {
   "cell_type": "code",
   "execution_count": 9,
   "metadata": {},
   "outputs": [
    {
     "name": "stdout",
     "output_type": "stream",
     "text": [
      "ans = (sym) -1 + atan(3)\n"
     ]
    }
   ],
   "source": [
    "solve(y(1) == 1, C)"
   ]
  },
  {
   "cell_type": "code",
   "execution_count": 10,
   "metadata": {},
   "outputs": [
    {
     "name": "stdout",
     "output_type": "stream",
     "text": [
      "y(x) = (symfun) -5*x + tan(x - 1 + atan(3)) + 3\n"
     ]
    }
   ],
   "source": [
    "determined_C = solve(y(1) == 1, C);\n",
    "\n",
    "y(x) = 3 - 5*x + tan(x + determined_C)"
   ]
  },
  {
   "cell_type": "code",
   "execution_count": 11,
   "metadata": {},
   "outputs": [
    {
     "name": "stdout",
     "output_type": "stream",
     "text": [
      "lhs = (sym)\n",
      "\n",
      "     2                     \n",
      "  tan (x - 1 + atan(3)) - 4\n",
      "\n"
     ]
    }
   ],
   "source": [
    "lhs = diff(y(x), x)"
   ]
  },
  {
   "cell_type": "code",
   "execution_count": 12,
   "metadata": {},
   "outputs": [
    {
     "name": "stdout",
     "output_type": "stream",
     "text": [
      "ans(x) = (symfun)\n",
      "\n",
      "                            2                             \n",
      "  (tan(x - 1 + atan(3)) + 2)  - 4*tan(x - 1 + atan(3)) - 8\n",
      "\n"
     ]
    }
   ],
   "source": [
    "(5*x + y - 1)^2 - 4*(5*x + y - 1)"
   ]
  },
  {
   "cell_type": "code",
   "execution_count": 13,
   "metadata": {},
   "outputs": [
    {
     "name": "stdout",
     "output_type": "stream",
     "text": [
      "rhs = (sym)\n",
      "\n",
      "     2                     \n",
      "  tan (x - 1 + atan(3)) - 4\n",
      "\n"
     ]
    }
   ],
   "source": [
    "rhs = simplify(\n",
    "    (5*x + y - 1)^2 - 4*(5*x + y - 1)\n",
    ")"
   ]
  },
  {
   "cell_type": "code",
   "execution_count": 14,
   "metadata": {},
   "outputs": [
    {
     "name": "stdout",
     "output_type": "stream",
     "text": [
      "ans = (sym) True\n"
     ]
    }
   ],
   "source": [
    "lhs == rhs"
   ]
  },
  {
   "cell_type": "code",
   "execution_count": 15,
   "metadata": {},
   "outputs": [
    {
     "name": "stdout",
     "output_type": "stream",
     "text": [
      "ans = (sym) -5*x + tan(x - 1 + atan(3)) + 3\n"
     ]
    }
   ],
   "source": [
    "y(x)"
   ]
  },
  {
   "cell_type": "code",
   "execution_count": 16,
   "metadata": {},
   "outputs": [],
   "source": [
    "x_axis = linspace(-0.5, 0.5, 80);"
   ]
  },
  {
   "cell_type": "code",
   "execution_count": 17,
   "metadata": {},
   "outputs": [
    {
     "data": {
      "image/png": "[encoded data removed]",
      "text/plain": [
       "<IPython.core.display.Image object>"
      ]
     },
     "metadata": {},
     "output_type": "display_data"
    }
   ],
   "source": [
    "plot(x_axis, double(subs(y, x, x_axis)))"
   ]
  },
  {
   "cell_type": "code",
   "execution_count": 18,
   "metadata": {},
   "outputs": [
    {
     "name": "stdout",
     "output_type": "stream",
     "text": [
      "sol = (sym)\n",
      "\n",
      "                                                                                 >\n",
      "       2*I*x                        2*I             2*I*x   (1 + 2*I)*(2 - I)*(3 >\n",
      "  5*x*e      - x*(1 + 2*I)*(2 - I)*e    + (-3 + I)*e      + -------------------- >\n",
      "                                                                          5      >\n",
      "  ------------------------------------------------------------------------------ >\n",
      "                                                           2*I                   >\n",
      "                                2*I*x   (1 + 2*I)*(2 - I)*e                      >\n",
      "                             - e      + ----------------------                   >\n",
      "                                                  5                              >\n",
      "  \n",
      "  >        2*I\n",
      "  >  + I)*e   \n",
      "  > ----------\n",
      "  >           \n",
      "  > ----------\n",
      "  >           \n",
      "  >           \n",
      "  >           \n",
      "  >           \n",
      "\n"
     ]
    }
   ],
   "source": [
    "syms x y(x)\n",
    "\n",
    "sol = dsolve(diff(y, x) == (5*x + y - 1)^2 - 4*(5*x + y - 1), y(1) == 1)"
   ]
  },
  {
   "cell_type": "code",
   "execution_count": null,
   "metadata": {},
   "outputs": [
    {
     "data": {
      "image/png": "[encoded data removed]",
      "text/plain": [
       "<IPython.core.display.Image object>"
      ]
     },
     "metadata": {},
     "output_type": "display_data"
    }
   ],
   "source": [
    "plot(x_axis, double(subs(sol, x, x_axis)))"
   ]
  },
  {
   "cell_type": "code",
   "execution_count": null,
   "metadata": {},
   "outputs": [],
   "source": []
  }
 ],
 "metadata": {
  "kernelspec": {
   "display_name": "Octave",
   "language": "octave",
   "name": "octave"
  },
  "language_info": {
   "file_extension": ".m",
   "help_links": [
    {
     "text": "GNU Octave",
     "url": "https://www.gnu.org/software/octave/support.html"
    },
    {
     "text": "Octave Kernel",
     "url": "https://github.com/Calysto/octave_kernel"
    },
    {
     "text": "MetaKernel Magics",
     "url": "https://metakernel.readthedocs.io/en/latest/source/README.html"
    }
   ],
   "mimetype": "text/x-octave",
   "name": "octave",
   "version": "9.3.0"
  }
 },
 "nbformat": 4,
 "nbformat_minor": 2
}
